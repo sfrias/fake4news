{
  "nbformat": 4,
  "nbformat_minor": 0,
  "metadata": {
    "colab": {
      "name": "scrapping.ipynb",
      "version": "0.3.2",
      "provenance": [],
      "collapsed_sections": [],
      "include_colab_link": true
    },
    "kernelspec": {
      "name": "python3",
      "display_name": "Python 3"
    },
    "accelerator": "GPU"
  },
  "cells": [
    {
      "cell_type": "markdown",
      "metadata": {
        "id": "view-in-github",
        "colab_type": "text"
      },
      "source": [
        "<a href=\"https://colab.research.google.com/github/sfrias/fake4news/blob/master/scrapping.ipynb\" target=\"_parent\"><img src=\"https://colab.research.google.com/assets/colab-badge.svg\" alt=\"Open In Colab\"/></a>"
      ]
    },
    {
      "metadata": {
        "id": "uaydGeERYz98",
        "colab_type": "text"
      },
      "cell_type": "markdown",
      "source": [
        "<br><center style= \"font-family:Script;font-size:3.2em;color:purple;font-style:bold\">Fake4News Scrapping for Eurecat 2019 Internet Datathon </center> <br> <br>\n",
        "\n",
        "## Group name:**Look4Fake**\n",
        "**Participants: Alberto Pardo, Jose Romero, JM Torrents, JP Delzo, Santiago Frias.**\n",
        "\n",
        "Research question: How fake news affects the social behavior of the population. Dataset by reddit\n",
        "\n",
        "Testing and deployment for other news dataset cases(twitter,...) on Github for colaborative link: \n",
        "\n",
        "https://github.com/sfrias/fake4news\n",
        "\n",
        "Member especially focused on this notebook: **JP Delzo**.\n",
        "\n",
        "Messages over fake news,deep fake, social inquality, social media, information ethics, etc.. are related to a huge amount of words that are scattered on social media as for example:\n",
        "\n",
        ">*false, feigned, fictitious, gossip, tattle, coloquial, junk, bogues, phony, concocted, invented, make, sham, soft, counterfeit,fabricated, forget, fraudulent, mock, simulated,artificial, blamey, authentic, genuine, real, sincere, true, original,truthful.*\n",
        "\n",
        "Our objective is to find out if there is a high incidence of these words in the dataset granted. "
      ]
    },
    {
      "metadata": {
        "id": "VdVdPhmRYz9-",
        "colab_type": "text"
      },
      "cell_type": "markdown",
      "source": [
        "## Anexo: \n",
        "A litle sub program that round seconds:"
      ]
    },
    {
      "metadata": {
        "id": "-gkwFdIEYz-A",
        "colab_type": "code",
        "colab": {}
      },
      "cell_type": "code",
      "source": [
        "import datetime as dt"
      ],
      "execution_count": 0,
      "outputs": []
    },
    {
      "metadata": {
        "id": "n8ecEYrFYz-F",
        "colab_type": "code",
        "colab": {}
      },
      "cell_type": "code",
      "source": [
        "def round_seconds(timedelta):\n",
        "    seconds= int(timedelta.total_seconds())\n",
        "    rounded_timedelta= dt.timedelta(seconds=seconds)  \n",
        "    return(rounded_timedelta)    "
      ],
      "execution_count": 0,
      "outputs": []
    },
    {
      "metadata": {
        "id": "_z0ya3izYz-J",
        "colab_type": "text"
      },
      "cell_type": "markdown",
      "source": [
        "# 1.Downloading dataset \n",
        "Extracting only the attribute **body** of every file "
      ]
    },
    {
      "metadata": {
        "id": "nB10sqWNYz-L",
        "colab_type": "code",
        "colab": {
          "base_uri": "https://localhost:8080/",
          "height": 34
        },
        "outputId": "e38fc7c7-cf28-4df5-9dc0-0634e8eac26a"
      },
      "cell_type": "code",
      "source": [
        "import matplotlib.pyplot as plt\n",
        "from google.colab import drive\n",
        "drive.mount('/gdrive')\n",
        "import io"
      ],
      "execution_count": 20,
      "outputs": [
        {
          "output_type": "stream",
          "text": [
            "Drive already mounted at /gdrive; to attempt to forcibly remount, call drive.mount(\"/gdrive\", force_remount=True).\n"
          ],
          "name": "stdout"
        }
      ]
    },
    {
      "metadata": {
        "id": "1xzOMx07bGJI",
        "colab_type": "code",
        "colab": {
          "base_uri": "https://localhost:8080/",
          "height": 34
        },
        "outputId": "c7729890-0e56-42b3-c9f3-8f383cc32cf9"
      },
      "cell_type": "code",
      "source": [
        "!ls -lah /gdrive/'My Drive'/materials_students/reddit_dataset.zip"
      ],
      "execution_count": 2,
      "outputs": [
        {
          "output_type": "stream",
          "text": [
            "-r-------- 1 root root 2.3G Nov  9 10:39 '/gdrive/My Drive/materials_students/reddit_dataset.zip'\n"
          ],
          "name": "stdout"
        }
      ]
    },
    {
      "metadata": {
        "id": "QAXJP1oVbQzw",
        "colab_type": "code",
        "colab": {
          "base_uri": "https://localhost:8080/",
          "height": 391
        },
        "outputId": "f02005ff-b629-49a4-a534-055d7c3d3ae9"
      },
      "cell_type": "code",
      "source": [
        "!unzip  '/gdrive/My Drive/materials_students/reddit_dataset.zip'"
      ],
      "execution_count": 3,
      "outputs": [
        {
          "output_type": "stream",
          "text": [
            "Archive:  /gdrive/My Drive/materials_students/reddit_dataset.zip\n",
            "   creating: reddit_dataset/\n",
            "  inflating: reddit_dataset/RC_2018-06.csv  \n",
            "  inflating: reddit_dataset/RC_2018-07.csv  \n",
            "  inflating: reddit_dataset/RC_2018-05.csv  \n",
            "  inflating: reddit_dataset/RC_2018-04.csv  \n",
            "  inflating: reddit_dataset/RC_2018-01.csv  \n",
            "  inflating: reddit_dataset/RC_2018-03.csv  \n",
            "  inflating: reddit_dataset/RC_2018-02.csv  \n",
            "  inflating: reddit_dataset/RC_2017-08.csv  \n",
            "  inflating: reddit_dataset/RC_2017-09.csv  \n",
            "  inflating: reddit_dataset/RC_2017-01.csv  \n",
            "  inflating: reddit_dataset/RC_2017-02.csv  \n",
            "  inflating: reddit_dataset/RC_2017-03.csv  \n",
            "  inflating: reddit_dataset/RC_2017-07.csv  \n",
            "  inflating: reddit_dataset/RC_2017-06.csv  \n",
            "  inflating: reddit_dataset/RC_2017-12.csv  \n",
            "  inflating: reddit_dataset/RC_2017-04.csv  \n",
            "  inflating: reddit_dataset/RC_2017-10.csv  \n",
            "  inflating: reddit_dataset/RC_2017-11.csv  \n",
            "  inflating: reddit_dataset/RC_2017-05.csv  \n",
            "  inflating: reddit_dataset/RC_2018-08.csv  \n"
          ],
          "name": "stdout"
        }
      ]
    },
    {
      "metadata": {
        "id": "VST0XObubmdB",
        "colab_type": "code",
        "colab": {
          "base_uri": "https://localhost:8080/",
          "height": 408
        },
        "outputId": "8e9e4006-ae3c-4502-8aee-3b9bcf12ee40"
      },
      "cell_type": "code",
      "source": [
        "!ls -lah reddit_dataset"
      ],
      "execution_count": 4,
      "outputs": [
        {
          "output_type": "stream",
          "text": [
            "total 9.1G\n",
            "drwxr-xr-x 2 root root 4.0K Nov  9 10:29 .\n",
            "drwxr-xr-x 1 root root 4.0K Mar 14 22:58 ..\n",
            "-rwxr-xr-x 1 root root 438M Nov  8 17:08 RC_2017-01.csv\n",
            "-rwxr-xr-x 1 root root 420M Nov  8 17:09 RC_2017-02.csv\n",
            "-rwxr-xr-x 1 root root 7.4M Nov  8 17:10 RC_2017-03.csv\n",
            "-rwxr-xr-x 1 root root 351M Nov  8 17:10 RC_2017-04.csv\n",
            "-rwxr-xr-x 1 root root 381M Nov  8 14:39 RC_2017-05.csv\n",
            "-rwxr-xr-x 1 root root 381M Nov  8 17:12 RC_2017-06.csv\n",
            "-rwxr-xr-x 1 root root 405M Nov  8 17:13 RC_2017-07.csv\n",
            "-rwxr-xr-x 1 root root 462M Nov  8 17:13 RC_2017-08.csv\n",
            "-rwxr-xr-x 1 root root 455M Nov  8 17:14 RC_2017-09.csv\n",
            "-rwxr-xr-x 1 root root 499M Nov  8 17:15 RC_2017-10.csv\n",
            "-rwxr-xr-x 1 root root 624M Nov  8 17:17 RC_2017-11.csv\n",
            "-rwxr-xr-x 1 root root 677M Nov  8 17:34 RC_2017-12.csv\n",
            "-rwxr-xr-x 1 root root 623M Nov  8 17:58 RC_2018-01.csv\n",
            "-rwxr-xr-x 1 root root 525M Nov  8 17:58 RC_2018-02.csv\n",
            "-rwxr-xr-x 1 root root 550M Nov  8 17:59 RC_2018-03.csv\n",
            "-rwxr-xr-x 1 root root 491M Nov  8 18:03 RC_2018-04.csv\n",
            "-rwxr-xr-x 1 root root 519M Nov  8 18:00 RC_2018-05.csv\n",
            "-rwxr-xr-x 1 root root 446M Nov  8 18:01 RC_2018-06.csv\n",
            "-rwxr-xr-x 1 root root 511M Nov  8 18:01 RC_2018-07.csv\n",
            "-rwxr-xr-x 1 root root 540M Nov  8 18:02 RC_2018-08.csv\n"
          ],
          "name": "stdout"
        }
      ]
    },
    {
      "metadata": {
        "id": "0LGt7E_QYz-P",
        "colab_type": "code",
        "colab": {}
      },
      "cell_type": "code",
      "source": [
        "years=[2017,2018]\n",
        "messages=[[],[]]"
      ],
      "execution_count": 0,
      "outputs": []
    },
    {
      "metadata": {
        "id": "G4pewDxnYz-T",
        "colab_type": "code",
        "colab": {}
      },
      "cell_type": "code",
      "source": [
        "months2017=[]\n",
        "for month in range(1,13):\n",
        "    if month < 10:\n",
        "        months2017.append('0' + str(month))\n",
        "    else:\n",
        "        months2017.append(str(month))\n",
        "months2018=['0'+str(month) for month in range(1,9)]\n",
        "months=[months2017,months2018]"
      ],
      "execution_count": 0,
      "outputs": []
    },
    {
      "metadata": {
        "id": "YJdkLs3bYz-X",
        "colab_type": "text"
      },
      "cell_type": "markdown",
      "source": [
        "We would like to know the downloading time: "
      ]
    },
    {
      "metadata": {
        "id": "sMQ2MrS7Yz-Y",
        "colab_type": "code",
        "colab": {
          "base_uri": "https://localhost:8080/",
          "height": 425
        },
        "outputId": "d60e20a5-abfd-4228-9cb1-90352b54415d"
      },
      "cell_type": "code",
      "source": [
        "print('DOWNLOADING TIME:')\n",
        "initial_time = dt.datetime.now()\n",
        "for indexy in range(len(years)):\n",
        "    for month in months[indexy]:\n",
        "        start_time= dt.datetime.now()\n",
        "        adress=\"RC_{0}-\".format(years[indexy]) + month + '.csv'\n",
        "        file= io.open(file= 'reddit_dataset/' + adress,encoding= 'utf-8')\n",
        "        lines= file.readlines()\n",
        "        file.close()\n",
        "        paragraph=[]\n",
        "        for index in range(1,len(lines)):\n",
        "            if '\"' in lines[index].split(',')[1]:\n",
        "                extract= lines[index].split('\"')[1]\n",
        "            else:\n",
        "                extract= lines[index].split(',')[1]\n",
        "            if '[removed]' != extract and '[deleted]' != extract:\n",
        "                paragraph.append(extract)\n",
        "        messages[indexy].append(paragraph) \n",
        "        end_time= dt.datetime.now()\n",
        "        print(adress +':',round_seconds(end_time - start_time)) \n",
        "final_time= dt.datetime.now()\n",
        "time= final_time-initial_time\n",
        "print('\\nTotal time:',round_seconds(time))\n",
        "print('Avg time for file:',round_seconds(time/20))"
      ],
      "execution_count": 12,
      "outputs": [
        {
          "output_type": "stream",
          "text": [
            "DOWNLOADING TIME:\n",
            "RC_2017-01.csv: 0:00:06\n",
            "RC_2017-02.csv: 0:00:06\n",
            "RC_2017-03.csv: 0:00:00\n",
            "RC_2017-04.csv: 0:00:03\n",
            "RC_2017-05.csv: 0:00:04\n",
            "RC_2017-06.csv: 0:00:05\n",
            "RC_2017-07.csv: 0:00:05\n",
            "RC_2017-08.csv: 0:00:06\n",
            "RC_2017-09.csv: 0:00:06\n",
            "RC_2017-10.csv: 0:00:07\n",
            "RC_2017-11.csv: 0:00:09\n",
            "RC_2017-12.csv: 0:00:10\n",
            "RC_2018-01.csv: 0:00:09\n",
            "RC_2018-02.csv: 0:00:07\n",
            "RC_2018-03.csv: 0:00:08\n",
            "RC_2018-04.csv: 0:00:07\n",
            "RC_2018-05.csv: 0:00:07\n",
            "RC_2018-06.csv: 0:00:06\n",
            "RC_2018-07.csv: 0:00:07\n",
            "RC_2018-08.csv: 0:00:08\n",
            "\n",
            "Total time: 0:02:15\n",
            "Avg time for file: 0:00:06\n"
          ],
          "name": "stdout"
        }
      ]
    },
    {
      "metadata": {
        "id": "PTcv9GooYz-g",
        "colab_type": "text"
      },
      "cell_type": "markdown",
      "source": [
        "Looking out if there are `[delete]` or `[removed]` texts by file:"
      ]
    },
    {
      "metadata": {
        "id": "0EbV7eVnYz-h",
        "colab_type": "code",
        "colab": {
          "base_uri": "https://localhost:8080/",
          "height": 357
        },
        "outputId": "58daf302-2d63-47e6-8e57-d2e5731507d4"
      },
      "cell_type": "code",
      "source": [
        "for indexy in range(len(years)):\n",
        "    for month in months[indexy]:\n",
        "        file_name=\"RC_{0}-\".format(years[indexy]) + month + '.csv:'\n",
        "        deleted = '[deleted]' in messages[indexy][int(month)-1]\n",
        "        removed = '[removed]' in messages[indexy][int(month)-1]\n",
        "        print(file_name, deleted or removed)          "
      ],
      "execution_count": 13,
      "outputs": [
        {
          "output_type": "stream",
          "text": [
            "RC_2017-01.csv: False\n",
            "RC_2017-02.csv: False\n",
            "RC_2017-03.csv: False\n",
            "RC_2017-04.csv: False\n",
            "RC_2017-05.csv: False\n",
            "RC_2017-06.csv: False\n",
            "RC_2017-07.csv: False\n",
            "RC_2017-08.csv: False\n",
            "RC_2017-09.csv: False\n",
            "RC_2017-10.csv: False\n",
            "RC_2017-11.csv: False\n",
            "RC_2017-12.csv: False\n",
            "RC_2018-01.csv: False\n",
            "RC_2018-02.csv: False\n",
            "RC_2018-03.csv: False\n",
            "RC_2018-04.csv: False\n",
            "RC_2018-05.csv: False\n",
            "RC_2018-06.csv: False\n",
            "RC_2018-07.csv: False\n",
            "RC_2018-08.csv: False\n"
          ],
          "name": "stdout"
        }
      ]
    },
    {
      "metadata": {
        "id": "i1LOvWh4Yz-n",
        "colab_type": "text"
      },
      "cell_type": "markdown",
      "source": [
        "Last changing the leters that are in upper case to lower case:"
      ]
    },
    {
      "metadata": {
        "id": "kjCSleNLYz-p",
        "colab_type": "code",
        "colab": {
          "base_uri": "https://localhost:8080/",
          "height": 408
        },
        "outputId": "5e2b1fb7-16ce-46ba-f359-ee837952d345"
      },
      "cell_type": "code",
      "source": [
        "print('TIMING:')\n",
        "start= dt.datetime.now()\n",
        "for indexy in range(len(years)):\n",
        "    for month in months[indexy]:\n",
        "        initial_time = dt.datetime.now()\n",
        "        for ind in range(len(messages[indexy][int(month)-1])):\n",
        "            messages[indexy][int(month)-1][ind]= messages[indexy][int(month)-1][ind].lower()\n",
        "        end_time= dt.datetime.now()\n",
        "        print('{0}-{1}:'.format(years[indexy],month),round_seconds(end_time-initial_time))\n",
        "end= dt.datetime.now()\n",
        "time= end- start\n",
        "print('Total time:',round_seconds(time))\n",
        "print('Avg time for file:',round_seconds(time/20))"
      ],
      "execution_count": 14,
      "outputs": [
        {
          "output_type": "stream",
          "text": [
            "TIMING:\n",
            "2017-01: 0:00:01\n",
            "2017-02: 0:00:01\n",
            "2017-03: 0:00:00\n",
            "2017-04: 0:00:01\n",
            "2017-05: 0:00:01\n",
            "2017-06: 0:00:01\n",
            "2017-07: 0:00:01\n",
            "2017-08: 0:00:01\n",
            "2017-09: 0:00:01\n",
            "2017-10: 0:00:01\n",
            "2017-11: 0:00:01\n",
            "2017-12: 0:00:02\n",
            "2018-01: 0:00:02\n",
            "2018-02: 0:00:01\n",
            "2018-03: 0:00:01\n",
            "2018-04: 0:00:01\n",
            "2018-05: 0:00:01\n",
            "2018-06: 0:00:01\n",
            "2018-07: 0:00:01\n",
            "2018-08: 0:00:01\n",
            "Total time: 0:00:30\n",
            "Avg time for file: 0:00:01\n"
          ],
          "name": "stdout"
        }
      ]
    },
    {
      "metadata": {
        "id": "t79R3arfYz-u",
        "colab_type": "text"
      },
      "cell_type": "markdown",
      "source": [
        "# 2. Rating words "
      ]
    },
    {
      "metadata": {
        "id": "EimpknYtYz-v",
        "colab_type": "code",
        "colab": {}
      },
      "cell_type": "code",
      "source": [
        "words=['false', 'feigned', 'fictitious', 'gossip', 'tattle', 'coloquial', 'junk', 'bogues', 'phony', 'concocted', 'invented', \n",
        "       'make', 'sham', 'soft', 'counterfeit','fabricated','forget', 'fraudulent', 'mock', 'simulated','artificial', 'blamey', \n",
        "       'authentic', 'genuine', 'real', 'sincere', 'true', 'original','truthful']"
      ],
      "execution_count": 0,
      "outputs": []
    },
    {
      "metadata": {
        "id": "qowyIdeFYz-z",
        "colab_type": "code",
        "colab": {
          "base_uri": "https://localhost:8080/",
          "height": 408
        },
        "outputId": "f726540b-8948-4521-bf16-6abf7593ffa6"
      },
      "cell_type": "code",
      "source": [
        "rates=[]\n",
        "print('TIMING:')\n",
        "start= dt.datetime.now()\n",
        "for indexy in range(len(years)):\n",
        "    for month in months[indexy]:\n",
        "        initial_time = dt.datetime.now()\n",
        "        counting=0\n",
        "        monthly_texts= messages[indexy][int(month)-1]\n",
        "        for ind in range(len(monthly_texts)):\n",
        "            n=0\n",
        "            for word in words:\n",
        "                if word in monthly_texts[ind]:\n",
        "                    break\n",
        "                else:\n",
        "                    n +=1\n",
        "            if n != len(words):\n",
        "                counting += 1\n",
        "        rates.append(counting/len(monthly_texts))        \n",
        "        end_time= dt.datetime.now()\n",
        "        print('{0}-{1}:'.format(years[indexy],month),round_seconds(end_time-initial_time))\n",
        "end= dt.datetime.now()\n",
        "time= end- start\n",
        "print('Total time:',round_seconds(time))\n",
        "print('Avg time for file:',round_seconds(time/20))"
      ],
      "execution_count": 16,
      "outputs": [
        {
          "output_type": "stream",
          "text": [
            "TIMING:\n",
            "2017-01: 0:00:10\n",
            "2017-02: 0:00:10\n",
            "2017-03: 0:00:00\n",
            "2017-04: 0:00:08\n",
            "2017-05: 0:00:09\n",
            "2017-06: 0:00:09\n",
            "2017-07: 0:00:10\n",
            "2017-08: 0:00:11\n",
            "2017-09: 0:00:11\n",
            "2017-10: 0:00:12\n",
            "2017-11: 0:00:15\n",
            "2017-12: 0:00:17\n",
            "2018-01: 0:00:15\n",
            "2018-02: 0:00:13\n",
            "2018-03: 0:00:13\n",
            "2018-04: 0:00:12\n",
            "2018-05: 0:00:13\n",
            "2018-06: 0:00:11\n",
            "2018-07: 0:00:12\n",
            "2018-08: 0:00:13\n",
            "Total time: 0:03:52\n",
            "Avg time for file: 0:00:11\n"
          ],
          "name": "stdout"
        }
      ]
    },
    {
      "metadata": {
        "id": "ABrlywRhYz-5",
        "colab_type": "text"
      },
      "cell_type": "markdown",
      "source": [
        "# 3. Ploting the outputs\n",
        "Setting the month labels from Jan 17 to Aug 18: "
      ]
    },
    {
      "metadata": {
        "id": "9ums49YHYz-6",
        "colab_type": "code",
        "colab": {}
      },
      "cell_type": "code",
      "source": [
        "month_date=[]\n",
        "for indexy in range(len(years)):\n",
        "    for month in months[indexy]:\n",
        "        date= dt.datetime(years[indexy],int(month),1)\n",
        "        label= date.strftime('%y %b')\n",
        "        month_date.append(label)"
      ],
      "execution_count": 0,
      "outputs": []
    },
    {
      "metadata": {
        "id": "cE5q7cDxYz-9",
        "colab_type": "text"
      },
      "cell_type": "markdown",
      "source": [
        "Plotting:"
      ]
    },
    {
      "metadata": {
        "id": "N5CatyJQYz-_",
        "colab_type": "code",
        "colab": {}
      },
      "cell_type": "code",
      "source": [
        "import matplotlib.pyplot as plt"
      ],
      "execution_count": 0,
      "outputs": []
    },
    {
      "metadata": {
        "id": "LvBZ_SJbYz_C",
        "colab_type": "code",
        "colab": {
          "base_uri": "https://localhost:8080/",
          "height": 51
        },
        "outputId": "d37cf6a7-cbb9-4e07-ccad-788d135f28ef"
      },
      "cell_type": "code",
      "source": [
        "plt.style.use('fivethirtyeight')\n",
        "plt.figure(figsize=(14,7))"
      ],
      "execution_count": 21,
      "outputs": [
        {
          "output_type": "execute_result",
          "data": {
            "text/plain": [
              "<Figure size 1008x504 with 0 Axes>"
            ]
          },
          "metadata": {
            "tags": []
          },
          "execution_count": 21
        },
        {
          "output_type": "display_data",
          "data": {
            "text/plain": [
              "<Figure size 1008x504 with 0 Axes>"
            ]
          },
          "metadata": {
            "tags": []
          }
        }
      ]
    },
    {
      "metadata": {
        "id": "VFHrjNweic24",
        "colab_type": "code",
        "colab": {
          "base_uri": "https://localhost:8080/",
          "height": 413
        },
        "outputId": "90947873-d044-4f2d-ee41-c60e70a91d8a"
      },
      "cell_type": "code",
      "source": [
        "fig, ax = plt.subplots()\n",
        "ax.set_xticks(range(len(month_date)))\n",
        "ax.set_xticklabels(month_date, rotation = 'vertical')\n",
        "plt.plot(rates)\n",
        "plt.title('Rate of words by month')\n",
        "plt.show()"
      ],
      "execution_count": 30,
      "outputs": [
        {
          "output_type": "display_data",
          "data": {
            "image/png": "[encoded data removed]",
            "text/plain": [
              "<Figure size 576x396 with 1 Axes>"
            ]
          },
          "metadata": {
            "tags": []
          }
        }
      ]
    },
    {
      "metadata": {
        "id": "1-3G9UY5Yz_G",
        "colab_type": "text"
      },
      "cell_type": "markdown",
      "source": [
        "There is practically an average of 10% in expressions the involves the selected words with the total of sent messages."
      ]
    }
  ]
}